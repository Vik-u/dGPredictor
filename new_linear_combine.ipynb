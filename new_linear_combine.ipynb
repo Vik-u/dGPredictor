{
 "cells": [
  {
   "cell_type": "code",
   "execution_count": 1,
   "metadata": {},
   "outputs": [],
   "source": [
    "from scipy.io import savemat, loadmat\n",
    "import pandas as pd\n",
    "import pdb\n",
    "import json\n",
    "import numpy as np\n",
    "from numpy import median, mean\n",
    "from sklearn.linear_model import BayesianRidge, LinearRegression, RidgeCV, Ridge\n",
    "from sklearn.neural_network import MLPRegressor\n",
    "from sklearn.metrics import mean_squared_error, r2_score, mean_absolute_error\n",
    "from sklearn.model_selection import cross_val_score, LeaveOneOut\n",
    "import pickle\n",
    "import matplotlib.pyplot as plt"
   ]
  },
  {
   "cell_type": "code",
   "execution_count": 2,
   "metadata": {},
   "outputs": [
    {
     "name": "stdout",
     "output_type": "stream",
     "text": [
      "radius 1+2 linear model\n",
      "Mean squared error: 9.60\n",
      "Coefficient of determination: 0.9998\n"
     ]
    }
   ],
   "source": [
    "ac = loadmat('./data/Train_comb_NN_model.mat')\n",
    "\n",
    "y = ac['y']\n",
    "y = y.flatten()\n",
    "\n",
    "alphas = np.logspace(-6, 6, 200)\n",
    "\n",
    "\n",
    "Xrc = ac['X_comb_train']\n",
    "regr_rcombined = RidgeCV(alphas=alphas,fit_intercept= False).fit(Xrc, y)\n",
    "\n",
    "y_pred_rc = regr_rcombined.predict(Xrc)\n",
    "mse_rc = mean_squared_error(y, y_pred_rc)\n",
    "r2 = r2_score(y, y_pred_rc)\n",
    "\n",
    "\n",
    "print('radius 1+2 linear model')\n",
    "print('Mean squared error: %.2f'\n",
    "    % mse_rc)\n",
    "print('Coefficient of determination: %.4f'\n",
    "    % r2)\n"
   ]
  },
  {
   "cell_type": "code",
   "execution_count": null,
   "metadata": {},
   "outputs": [],
   "source": []
  },
  {
   "cell_type": "code",
   "execution_count": 3,
   "metadata": {},
   "outputs": [
    {
     "data": {
      "text/plain": [
       "Text(0.7, 0.25, '$R^2$ = 0.9998')"
      ]
     },
     "execution_count": 3,
     "metadata": {},
     "output_type": "execute_result"
    },
    {
     "data": {
      "image/png": "[encoded data removed]",
      "text/plain": [
       "<Figure size 432x288 with 1 Axes>"
      ]
     },
     "metadata": {
      "needs_background": "light"
     },
     "output_type": "display_data"
    },
    {
     "data": {
      "image/png": "[encoded data removed]",
      "text/plain": [
       "<Figure size 432x288 with 1 Axes>"
      ]
     },
     "metadata": {
      "needs_background": "light"
     },
     "output_type": "display_data"
    }
   ],
   "source": [
    "plt.hist(regr_rcombined.coef_[0:1730], bins=50, color = 'tomato')#for ridgeCV\n",
    "\n",
    "plt.xlabel('$\\Delta_g G^o$')\n",
    "plt.ylabel('Count')\n",
    "# plt.savefig('./figures/ridge_group_info_radius2_manual_correct_new_color.png')\n",
    "\n",
    "fig, ax = plt.subplots()\n",
    "# ax.scatter(y, predicted, color = 'burlywood')\n",
    "ax.scatter(y, y_pred_rc, color = 'tomato')\n",
    "ax.plot([y.min(), y.max()], [y.min(), y.max()], 'k--', lw=1,)\n",
    "ax.set_xlabel('Measured $\\Delta_r G^o$')\n",
    "ax.set_ylabel('Predicted $\\Delta_r G^o$')\n",
    "plt.figtext(.7, .2, \"MSE = %.2f\" % mse_rc)\n",
    "plt.figtext(.7, .25, \"$R^2$ = %.4f\" % r2)\n",
    "\n"
   ]
  },
  {
   "cell_type": "code",
   "execution_count": 4,
   "metadata": {},
   "outputs": [
    {
     "name": "stdout",
     "output_type": "stream",
     "text": [
      "cross-validataion result : radius 1 + 2\n",
      "median of cv is:  5.484989593112065\n",
      "mean of cv is:  16.25610650702743\n"
     ]
    }
   ],
   "source": [
    "r1_d = loadmat('./data/dGPredictor_stereo.mat')\n",
    "r2_d = loadmat('./data/radius2_mat_data_modified_manual.mat')\n",
    "S = r1_d['train_S']\n",
    "\n",
    "Gr1 = r1_d['G']\n",
    "Gr2 = r2_d['G_inc_r2_compar']\n",
    "\n",
    "df_S = pd.DataFrame(r1_d['train_S'])\n",
    "df_S_unique = df_S.T.drop_duplicates().T\n",
    "unque_cols = df_S_unique.columns.values.tolist()\n",
    "S = S[:, unque_cols]\n",
    "\n",
    "b_list = json.load(open('./data/median_b_manual_correction_r2.json')) # it will be same for both radius, it just remove all the repeated data points from the training data\n",
    "b = np.asarray(b_list)\n",
    "b = np.reshape(b,(-1,1))\n",
    "\n",
    "STG1 = np.dot(S.T, Gr1)\n",
    "STG2 = np.dot(S.T, Gr2)\n",
    "\n",
    "\n",
    "X1 = STG1\n",
    "X2 = STG2\n",
    "yy = b\n",
    "yy = yy.flatten()\n",
    "\n",
    "\n",
    "## cross validation combined moiety model\n",
    "\n",
    "XX = np.concatenate((X1, X2), axis =1)\n",
    "\n",
    "alphas = np.logspace(-6, 6, 200)\n",
    "regr = RidgeCV(alphas=alphas,fit_intercept= False).fit(XX, yy)\n",
    "\n",
    "regr_cv = Ridge(alpha=regr.alpha_,fit_intercept=False)\n",
    "scores_cv = -cross_val_score(regr_cv, XX, yy, cv=LeaveOneOut(), scoring='neg_mean_absolute_error')\n",
    "\n",
    "\n",
    "print('cross-validataion result : radius 1 + 2')\n",
    "print('median of cv is: ', median(scores_cv))\n",
    "print('mean of cv is: ', mean(scores_cv))"
   ]
  },
  {
   "cell_type": "markdown",
   "metadata": {},
   "source": [
    "## Test case KEGG dataset "
   ]
  },
  {
   "cell_type": "code",
   "execution_count": 2,
   "metadata": {},
   "outputs": [
    {
     "name": "stdout",
     "output_type": "stream",
     "text": [
      "radius 1+2 linear model\n",
      "Mean squared error: 9.60\n",
      "Coefficient of determination: 0.9998\n"
     ]
    }
   ],
   "source": [
    "ac = loadmat('./data/Test_KEGG_all_grp.mat')\n",
    "\n",
    "y = ac['y']\n",
    "y = y.flatten()\n",
    "\n",
    "alphas = np.logspace(-6, 6, 200)\n",
    "\n",
    "Xrc = ac['X_comb_all']\n",
    "regr_rcombined = BayesianRidge(tol=1e-6, fit_intercept=False, compute_score=True).fit(Xrc, y)\n",
    "\n",
    "y_pred_rc = regr_rcombined.predict(Xrc)\n",
    "mse_rc = mean_squared_error(y, y_pred_rc)\n",
    "r2 = r2_score(y, y_pred_rc)\n",
    "\n",
    "\n",
    "print('radius 1+2 linear model')\n",
    "print('Mean squared error: %.2f'\n",
    "    % mse_rc)\n",
    "print('Coefficient of determination: %.4f'\n",
    "    % r2)\n"
   ]
  },
  {
   "cell_type": "code",
   "execution_count": null,
   "metadata": {},
   "outputs": [],
   "source": []
  },
  {
   "cell_type": "code",
   "execution_count": 114,
   "metadata": {},
   "outputs": [],
   "source": [
    "df = (pd.read_csv(\"./data/reaction_rule.csv\", index_col=0))\n",
    "df2 = (pd.read_csv(\"./data/reaction_rule_r2_py3_manual_modified.csv\", index_col=0))"
   ]
  },
  {
   "cell_type": "code",
   "execution_count": 17,
   "metadata": {},
   "outputs": [],
   "source": [
    "rule_vec1 = df.to_numpy().T\n",
    "rule_vec2 = df2.to_numpy().T\n",
    "\n",
    "m, n = rule_vec1.shape\n",
    "m2, n2 = rule_vec2.shape\n",
    "\n",
    "zeros1 = np.zeros((m, 44))\n",
    "zeros2 = np.zeros((m2, 44))"
   ]
  },
  {
   "cell_type": "code",
   "execution_count": 21,
   "metadata": {},
   "outputs": [],
   "source": [
    "X1 = rule_vec1\n",
    "X1 = np.concatenate((rule_vec1,zeros1),1)\n",
    "\n",
    "X2 = rule_vec2\n",
    "X2 = np.concatenate((rule_vec2,zeros2),1)\n",
    "\n",
    "X_comb_all = np.concatenate((X1, X2), axis =1)"
   ]
  },
  {
   "cell_type": "code",
   "execution_count": 25,
   "metadata": {},
   "outputs": [],
   "source": [
    "ymean, ystd = regr_rcombined.predict(X_comb_all, return_std=True)"
   ]
  },
  {
   "cell_type": "code",
   "execution_count": 26,
   "metadata": {},
   "outputs": [],
   "source": [
    "rxns = df.columns.tolist()"
   ]
  },
  {
   "cell_type": "code",
   "execution_count": 33,
   "metadata": {},
   "outputs": [],
   "source": [
    "result = {}\n",
    "result['reaction'] = rxns\n",
    "result['dG'] = ymean\n",
    "result['dG_std'] = ystd\n",
    "df_result = pd.DataFrame.from_dict(result)\n",
    "df_result.to_csv('./result/result_M1_2Linear_comb_model_Kegg_all.csv', index = False)"
   ]
  },
  {
   "cell_type": "markdown",
   "metadata": {},
   "source": [
    "## Analysis Section 2.3"
   ]
  },
  {
   "cell_type": "code",
   "execution_count": 49,
   "metadata": {},
   "outputs": [],
   "source": [
    "# read groups that exist in thermodynamic data\n",
    "\n",
    "df_groups1 = pd.read_csv('./data/group_names_TECRDB.txt',header=None)\n",
    "groups1 = df_groups1[0].tolist()\n",
    "\n",
    "\n",
    "df_groups2 = pd.read_csv('./data/r2_grp_TECRDB_name.txt',header=None)\n",
    "groups2 = df_groups2[0].tolist()"
   ]
  },
  {
   "cell_type": "code",
   "execution_count": 81,
   "metadata": {},
   "outputs": [],
   "source": [
    "grps_all = groups1 + groups2"
   ]
  },
  {
   "cell_type": "code",
   "execution_count": 91,
   "metadata": {},
   "outputs": [
    {
     "data": {
      "text/plain": [
       "(1435, 7053)"
      ]
     },
     "execution_count": 91,
     "metadata": {},
     "output_type": "execute_result"
    }
   ],
   "source": [
    "df.shape"
   ]
  },
  {
   "cell_type": "code",
   "execution_count": 92,
   "metadata": {},
   "outputs": [
    {
     "data": {
      "text/plain": [
       "(24881, 7053)"
      ]
     },
     "execution_count": 92,
     "metadata": {},
     "output_type": "execute_result"
    }
   ],
   "source": [
    "df2.shape"
   ]
  },
  {
   "cell_type": "code",
   "execution_count": 94,
   "metadata": {},
   "outputs": [
    {
     "name": "stderr",
     "output_type": "stream",
     "text": [
      "C:\\Users\\vuu10\\AppData\\Local\\Continuum\\anaconda3\\envs\\new_env\\lib\\site-packages\\ipykernel_launcher.py:2: FutureWarning: Sorting because non-concatenation axis is not aligned. A future version\n",
      "of pandas will change to not sort by default.\n",
      "\n",
      "To accept the future behavior, pass 'sort=False'.\n",
      "\n",
      "To retain the current behavior and silence the warning, pass 'sort=True'.\n",
      "\n",
      "  \n"
     ]
    }
   ],
   "source": [
    "# frames = [df, df2]\n",
    "df_all = pd.concat([df, df2])"
   ]
  },
  {
   "cell_type": "code",
   "execution_count": 95,
   "metadata": {},
   "outputs": [
    {
     "data": {
      "text/plain": [
       "(26316, 7053)"
      ]
     },
     "execution_count": 95,
     "metadata": {},
     "output_type": "execute_result"
    }
   ],
   "source": [
    "df_all.shape"
   ]
  },
  {
   "cell_type": "code",
   "execution_count": 83,
   "metadata": {},
   "outputs": [],
   "source": [
    "df_rule_1 = df_all.drop(grps_all)"
   ]
  },
  {
   "cell_type": "code",
   "execution_count": 97,
   "metadata": {},
   "outputs": [],
   "source": [
    "df_rule_2 = df_rule_1.loc[:, (df_rule_1 != 0).any(axis=0)] "
   ]
  },
  {
   "cell_type": "code",
   "execution_count": 98,
   "metadata": {},
   "outputs": [
    {
     "data": {
      "text/plain": [
       "(1172, 2166)"
      ]
     },
     "execution_count": 98,
     "metadata": {},
     "output_type": "execute_result"
    }
   ],
   "source": [
    "df_rule_2.shape"
   ]
  },
  {
   "cell_type": "code",
   "execution_count": 102,
   "metadata": {},
   "outputs": [
    {
     "data": {
      "text/plain": [
       "69.28966397277755"
      ]
     },
     "execution_count": 102,
     "metadata": {},
     "output_type": "execute_result"
    }
   ],
   "source": [
    "(7053.0 -2166.0 )*100.0 /7053.0"
   ]
  },
  {
   "cell_type": "code",
   "execution_count": 189,
   "metadata": {},
   "outputs": [
    {
     "data": {
      "text/plain": [
       "4887"
      ]
     },
     "execution_count": 189,
     "metadata": {},
     "output_type": "execute_result"
    }
   ],
   "source": [
    "7053-2166 "
   ]
  },
  {
   "cell_type": "markdown",
   "metadata": {},
   "source": [
    "# reactions with zero group changes using component contribution"
   ]
  },
  {
   "cell_type": "code",
   "execution_count": 105,
   "metadata": {},
   "outputs": [],
   "source": [
    "coef = regr_rcombined.coef_\n",
    "sigma = regr_rcombined.sigma_"
   ]
  },
  {
   "cell_type": "code",
   "execution_count": 106,
   "metadata": {},
   "outputs": [],
   "source": [
    "cov = [np.sqrt(sigma[i][i]) for i in range(len(sigma))]"
   ]
  },
  {
   "cell_type": "code",
   "execution_count": 108,
   "metadata": {},
   "outputs": [],
   "source": [
    "info = dict()\n",
    "info['coef'] = coef\n",
    "info['cov'] = cov\n",
    "df_info = pd.DataFrame.from_dict(info)"
   ]
  },
  {
   "cell_type": "code",
   "execution_count": 126,
   "metadata": {},
   "outputs": [],
   "source": [
    "df_info1 = df_info[:1435] # leaving 44 entries for the zeroes that were added in the data and only account for the moieties \n",
    "df_info2 = df_info[1479:26360]"
   ]
  },
  {
   "cell_type": "code",
   "execution_count": 120,
   "metadata": {},
   "outputs": [],
   "source": [
    "df_info.shape\n",
    "grps_df1 = pd.read_csv('./data/group_names_all.txt',header=None)\n",
    "grps_df2 = pd.read_csv('./data/group_names_r2_py3_modified_manual.txt',header=None)"
   ]
  },
  {
   "cell_type": "code",
   "execution_count": 124,
   "metadata": {},
   "outputs": [
    {
     "data": {
      "text/plain": [
       "1479"
      ]
     },
     "execution_count": 124,
     "metadata": {},
     "output_type": "execute_result"
    }
   ],
   "source": [
    " len(grps_df1) + 44"
   ]
  },
  {
   "cell_type": "code",
   "execution_count": 133,
   "metadata": {},
   "outputs": [],
   "source": [
    "df_info_all = pd.concat([df_info1, df_info2])\n",
    "grps_info_all = pd.concat([grps_df1, grps_df2])"
   ]
  },
  {
   "cell_type": "code",
   "execution_count": null,
   "metadata": {},
   "outputs": [],
   "source": [
    "df_info1['group'] = grps_df1"
   ]
  },
  {
   "cell_type": "code",
   "execution_count": 154,
   "metadata": {},
   "outputs": [],
   "source": [
    "df_info2 = df_info2.drop(columns=['group', 'groups']);"
   ]
  },
  {
   "cell_type": "code",
   "execution_count": 161,
   "metadata": {},
   "outputs": [],
   "source": [
    "grps_df2.index = range(1479, 26360, 1)\n",
    "grps_df2;"
   ]
  },
  {
   "cell_type": "code",
   "execution_count": 164,
   "metadata": {},
   "outputs": [],
   "source": [
    "df_info2['group'] = grps_df2\n",
    "# df_info2;"
   ]
  },
  {
   "cell_type": "code",
   "execution_count": 170,
   "metadata": {},
   "outputs": [],
   "source": [
    "df_TECRDB1 = df_info1[df_info1['group'].isin(groups1)]\n",
    "df_TECRDB2 = df_info2[df_info2['group'].isin(groups2)]\n",
    "\n",
    "df_TECRDB_all = pd.concat([df_TECRDB1, df_TECRDB2])\n"
   ]
  },
  {
   "cell_type": "code",
   "execution_count": 174,
   "metadata": {},
   "outputs": [
    {
     "data": {
      "text/plain": [
       "Text(0,0.5,\"$\\\\Delta G^{o'}$\")"
      ]
     },
     "execution_count": 174,
     "metadata": {},
     "output_type": "execute_result"
    },
    {
     "data": {
      "image/png": "[encoded data removed]",
      "text/plain": [
       "<Figure size 576x288 with 1 Axes>"
      ]
     },
     "metadata": {
      "needs_background": "light"
     },
     "output_type": "display_data"
    }
   ],
   "source": [
    "df_TECRDB_all = df_TECRDB_all.sort_values('coef')\n",
    "mean = df_TECRDB_all['coef']\n",
    "std  = df_TECRDB_all['cov']\n",
    "\n",
    "fig, ax = plt.subplots(figsize=(8,4))\n",
    "ax.errorbar(range(0,len(df_TECRDB_all.index)), mean, yerr=3*std, markersize='1',fmt='o', ecolor='burlywood', capthick=1)#,alpha=0.4)\n",
    "ax.axhline(y=0,linewidth=1,color='k')\n",
    "\n",
    "ax.axhline(y=270,linewidth=1,color='grey')\n",
    "ax.axhline(y=-270,linewidth=1,color='grey')\n",
    "ax.fill_between(range(0,len(df_TECRDB_all.index)), -270, 270, alpha=0.2, color='white')\n",
    "plt.xlabel('reaction')\n",
    "plt.ylabel('$\\Delta G^{o\\'}$')\n",
    "# ax.errorbar(prediction.reaction, mean, yerr=std, fmt='-o') #fmt=None to plot bars only"
   ]
  },
  {
   "cell_type": "code",
   "execution_count": 180,
   "metadata": {},
   "outputs": [
    {
     "data": {
      "text/plain": [
       "Text(0,0.5,'Count')"
      ]
     },
     "execution_count": 180,
     "metadata": {},
     "output_type": "execute_result"
    },
    {
     "data": {
      "image/png": "[encoded data removed]",
      "text/plain": [
       "<Figure size 432x288 with 1 Axes>"
      ]
     },
     "metadata": {
      "needs_background": "light"
     },
     "output_type": "display_data"
    }
   ],
   "source": [
    "plt.hist(df_TECRDB_all['coef'], bins=50)\n",
    "# plt.xscale('log')\n",
    "plt.xlabel('$\\Delta_g G^o$')\n",
    "plt.ylabel('Count')"
   ]
  },
  {
   "cell_type": "code",
   "execution_count": 186,
   "metadata": {},
   "outputs": [
    {
     "data": {
      "text/html": [
       "<div>\n",
       "<style scoped>\n",
       "    .dataframe tbody tr th:only-of-type {\n",
       "        vertical-align: middle;\n",
       "    }\n",
       "\n",
       "    .dataframe tbody tr th {\n",
       "        vertical-align: top;\n",
       "    }\n",
       "\n",
       "    .dataframe thead th {\n",
       "        text-align: right;\n",
       "    }\n",
       "</style>\n",
       "<table border=\"1\" class=\"dataframe\">\n",
       "  <thead>\n",
       "    <tr style=\"text-align: right;\">\n",
       "      <th></th>\n",
       "      <th>coef</th>\n",
       "      <th>cov</th>\n",
       "      <th>group</th>\n",
       "    </tr>\n",
       "  </thead>\n",
       "  <tbody>\n",
       "    <tr>\n",
       "      <th>794</th>\n",
       "      <td>-5.459416e-13</td>\n",
       "      <td>23.594649</td>\n",
       "      <td>S</td>\n",
       "    </tr>\n",
       "    <tr>\n",
       "      <th>17822</th>\n",
       "      <td>-5.459416e-13</td>\n",
       "      <td>23.594649</td>\n",
       "      <td>S</td>\n",
       "    </tr>\n",
       "    <tr>\n",
       "      <th>25109</th>\n",
       "      <td>0.000000e+00</td>\n",
       "      <td>0.000000</td>\n",
       "      <td>ccc(cc)C(N)=O</td>\n",
       "    </tr>\n",
       "    <tr>\n",
       "      <th>3843</th>\n",
       "      <td>0.000000e+00</td>\n",
       "      <td>8.805414</td>\n",
       "      <td>CC(=C)C(C)(C)CC</td>\n",
       "    </tr>\n",
       "    <tr>\n",
       "      <th>13024</th>\n",
       "      <td>0.000000e+00</td>\n",
       "      <td>0.000000</td>\n",
       "      <td>C[C@@H](O)C[NH2+]C</td>\n",
       "    </tr>\n",
       "    <tr>\n",
       "      <th>15077</th>\n",
       "      <td>0.000000e+00</td>\n",
       "      <td>0.000000</td>\n",
       "      <td>C[C@H](O)C(=O)NC</td>\n",
       "    </tr>\n",
       "    <tr>\n",
       "      <th>21118</th>\n",
       "      <td>0.000000e+00</td>\n",
       "      <td>0.000000</td>\n",
       "      <td>c[C@@H](C)[C@@H](CC)[C@H](C)C</td>\n",
       "    </tr>\n",
       "    <tr>\n",
       "      <th>15083</th>\n",
       "      <td>0.000000e+00</td>\n",
       "      <td>0.000000</td>\n",
       "      <td>C[C@H](O)C(=O)[C@H](C)O</td>\n",
       "    </tr>\n",
       "    <tr>\n",
       "      <th>15220</th>\n",
       "      <td>0.000000e+00</td>\n",
       "      <td>0.000000</td>\n",
       "      <td>C[C@H](O)[C@@H](C)OC</td>\n",
       "    </tr>\n",
       "    <tr>\n",
       "      <th>21865</th>\n",
       "      <td>0.000000e+00</td>\n",
       "      <td>0.000000</td>\n",
       "      <td>c[nH+]cn(c)C</td>\n",
       "    </tr>\n",
       "    <tr>\n",
       "      <th>12278</th>\n",
       "      <td>0.000000e+00</td>\n",
       "      <td>0.000000</td>\n",
       "      <td>C[C@@H](C)CCC</td>\n",
       "    </tr>\n",
       "    <tr>\n",
       "      <th>25337</th>\n",
       "      <td>0.000000e+00</td>\n",
       "      <td>0.000000</td>\n",
       "      <td>cccc(C)s</td>\n",
       "    </tr>\n",
       "    <tr>\n",
       "      <th>14433</th>\n",
       "      <td>0.000000e+00</td>\n",
       "      <td>0.000000</td>\n",
       "      <td>C[C@H](C)N</td>\n",
       "    </tr>\n",
       "    <tr>\n",
       "      <th>24698</th>\n",
       "      <td>0.000000e+00</td>\n",
       "      <td>0.000000</td>\n",
       "      <td>ccc(I)c(c)O</td>\n",
       "    </tr>\n",
       "    <tr>\n",
       "      <th>13988</th>\n",
       "      <td>0.000000e+00</td>\n",
       "      <td>0.000000</td>\n",
       "      <td>C[C@@](C)(O)CCO</td>\n",
       "    </tr>\n",
       "    <tr>\n",
       "      <th>24756</th>\n",
       "      <td>0.000000e+00</td>\n",
       "      <td>0.000000</td>\n",
       "      <td>ccc(O)c(c)O</td>\n",
       "    </tr>\n",
       "    <tr>\n",
       "      <th>5016</th>\n",
       "      <td>0.000000e+00</td>\n",
       "      <td>0.000000</td>\n",
       "      <td>CC(C)(C)S[C@H](C)N</td>\n",
       "    </tr>\n",
       "    <tr>\n",
       "      <th>11192</th>\n",
       "      <td>0.000000e+00</td>\n",
       "      <td>0.000000</td>\n",
       "      <td>COCC(=C)C</td>\n",
       "    </tr>\n",
       "    <tr>\n",
       "      <th>14413</th>\n",
       "      <td>0.000000e+00</td>\n",
       "      <td>0.000000</td>\n",
       "      <td>C[C@H](C)C[C@H](C)O</td>\n",
       "    </tr>\n",
       "    <tr>\n",
       "      <th>4634</th>\n",
       "      <td>0.000000e+00</td>\n",
       "      <td>0.000000</td>\n",
       "      <td>CC(=O)[C@@H](O)C(O)O</td>\n",
       "    </tr>\n",
       "    <tr>\n",
       "      <th>473</th>\n",
       "      <td>0.000000e+00</td>\n",
       "      <td>33.265883</td>\n",
       "      <td>C[C@H](N)S</td>\n",
       "    </tr>\n",
       "    <tr>\n",
       "      <th>24776</th>\n",
       "      <td>0.000000e+00</td>\n",
       "      <td>0.000000</td>\n",
       "      <td>ccc(OC)c(c)O</td>\n",
       "    </tr>\n",
       "    <tr>\n",
       "      <th>22374</th>\n",
       "      <td>0.000000e+00</td>\n",
       "      <td>0.000000</td>\n",
       "      <td>cc(C)cc(c)I</td>\n",
       "    </tr>\n",
       "    <tr>\n",
       "      <th>14983</th>\n",
       "      <td>0.000000e+00</td>\n",
       "      <td>0.000000</td>\n",
       "      <td>C[C@H](N)C(C)(C)SC</td>\n",
       "    </tr>\n",
       "    <tr>\n",
       "      <th>12957</th>\n",
       "      <td>0.000000e+00</td>\n",
       "      <td>0.000000</td>\n",
       "      <td>C[C@@H](O)C(OC)OC</td>\n",
       "    </tr>\n",
       "    <tr>\n",
       "      <th>528</th>\n",
       "      <td>0.000000e+00</td>\n",
       "      <td>33.290443</td>\n",
       "      <td>C[N+](C)(C)C</td>\n",
       "    </tr>\n",
       "    <tr>\n",
       "      <th>4968</th>\n",
       "      <td>0.000000e+00</td>\n",
       "      <td>0.000000</td>\n",
       "      <td>CC(C)(C)COP</td>\n",
       "    </tr>\n",
       "    <tr>\n",
       "      <th>13087</th>\n",
       "      <td>0.000000e+00</td>\n",
       "      <td>0.000000</td>\n",
       "      <td>C[C@@H](O)[C@@H](O)CC</td>\n",
       "    </tr>\n",
       "    <tr>\n",
       "      <th>3358</th>\n",
       "      <td>0.000000e+00</td>\n",
       "      <td>27.733442</td>\n",
       "      <td>C=C\\CC</td>\n",
       "    </tr>\n",
       "    <tr>\n",
       "      <th>12014</th>\n",
       "      <td>0.000000e+00</td>\n",
       "      <td>0.000000</td>\n",
       "      <td>CSCC</td>\n",
       "    </tr>\n",
       "    <tr>\n",
       "      <th>...</th>\n",
       "      <td>...</td>\n",
       "      <td>...</td>\n",
       "      <td>...</td>\n",
       "    </tr>\n",
       "    <tr>\n",
       "      <th>25400</th>\n",
       "      <td>0.000000e+00</td>\n",
       "      <td>0.000000</td>\n",
       "      <td>ccccs</td>\n",
       "    </tr>\n",
       "    <tr>\n",
       "      <th>20632</th>\n",
       "      <td>0.000000e+00</td>\n",
       "      <td>0.000000</td>\n",
       "      <td>cN[C@@H](C)[C@H](C)N</td>\n",
       "    </tr>\n",
       "    <tr>\n",
       "      <th>2349</th>\n",
       "      <td>0.000000e+00</td>\n",
       "      <td>32.276005</td>\n",
       "      <td>C=C(C)[C@](C)(CC)[C@@H](C)C</td>\n",
       "    </tr>\n",
       "    <tr>\n",
       "      <th>8033</th>\n",
       "      <td>0.000000e+00</td>\n",
       "      <td>0.000000</td>\n",
       "      <td>CCC=C(C)C</td>\n",
       "    </tr>\n",
       "    <tr>\n",
       "      <th>10394</th>\n",
       "      <td>0.000000e+00</td>\n",
       "      <td>0.000000</td>\n",
       "      <td>CNC(=O)CO</td>\n",
       "    </tr>\n",
       "    <tr>\n",
       "      <th>25480</th>\n",
       "      <td>0.000000e+00</td>\n",
       "      <td>0.000000</td>\n",
       "      <td>ccnc(c)C</td>\n",
       "    </tr>\n",
       "    <tr>\n",
       "      <th>25514</th>\n",
       "      <td>0.000000e+00</td>\n",
       "      <td>0.000000</td>\n",
       "      <td>ccsc(c)C</td>\n",
       "    </tr>\n",
       "    <tr>\n",
       "      <th>162</th>\n",
       "      <td>0.000000e+00</td>\n",
       "      <td>33.283000</td>\n",
       "      <td>CC(C)(C)S</td>\n",
       "    </tr>\n",
       "    <tr>\n",
       "      <th>9484</th>\n",
       "      <td>0.000000e+00</td>\n",
       "      <td>0.000000</td>\n",
       "      <td>CC[C@](C)(O)CC</td>\n",
       "    </tr>\n",
       "    <tr>\n",
       "      <th>22972</th>\n",
       "      <td>0.000000e+00</td>\n",
       "      <td>0.000000</td>\n",
       "      <td>cc([nH])N[C@@H](C)C</td>\n",
       "    </tr>\n",
       "    <tr>\n",
       "      <th>9786</th>\n",
       "      <td>0.000000e+00</td>\n",
       "      <td>0.000000</td>\n",
       "      <td>CCc(cc)sc</td>\n",
       "    </tr>\n",
       "    <tr>\n",
       "      <th>6234</th>\n",
       "      <td>0.000000e+00</td>\n",
       "      <td>0.000000</td>\n",
       "      <td>CC(N)C=O</td>\n",
       "    </tr>\n",
       "    <tr>\n",
       "      <th>9896</th>\n",
       "      <td>0.000000e+00</td>\n",
       "      <td>0.000000</td>\n",
       "      <td>CN(C)C(C(=O)[O-])=C(C)C</td>\n",
       "    </tr>\n",
       "    <tr>\n",
       "      <th>22611</th>\n",
       "      <td>0.000000e+00</td>\n",
       "      <td>0.000000</td>\n",
       "      <td>cc(N)n(c[nH+])[C@@H](C)O</td>\n",
       "    </tr>\n",
       "    <tr>\n",
       "      <th>22696</th>\n",
       "      <td>0.000000e+00</td>\n",
       "      <td>0.000000</td>\n",
       "      <td>cc(O)c(O)c(c)O</td>\n",
       "    </tr>\n",
       "    <tr>\n",
       "      <th>6157</th>\n",
       "      <td>0.000000e+00</td>\n",
       "      <td>0.000000</td>\n",
       "      <td>CC(N)=C(CO)CS</td>\n",
       "    </tr>\n",
       "    <tr>\n",
       "      <th>1147</th>\n",
       "      <td>0.000000e+00</td>\n",
       "      <td>33.179985</td>\n",
       "      <td>c[C@@H](C)C</td>\n",
       "    </tr>\n",
       "    <tr>\n",
       "      <th>16397</th>\n",
       "      <td>0.000000e+00</td>\n",
       "      <td>0.000000</td>\n",
       "      <td>C[N+](C)(C)CCO</td>\n",
       "    </tr>\n",
       "    <tr>\n",
       "      <th>26255</th>\n",
       "      <td>0.000000e+00</td>\n",
       "      <td>0.000000</td>\n",
       "      <td>nc(N)[nH]</td>\n",
       "    </tr>\n",
       "    <tr>\n",
       "      <th>6013</th>\n",
       "      <td>0.000000e+00</td>\n",
       "      <td>0.000000</td>\n",
       "      <td>CC(C)[NH3+]</td>\n",
       "    </tr>\n",
       "    <tr>\n",
       "      <th>22613</th>\n",
       "      <td>0.000000e+00</td>\n",
       "      <td>0.000000</td>\n",
       "      <td>cc(N)nc(C)n</td>\n",
       "    </tr>\n",
       "    <tr>\n",
       "      <th>16389</th>\n",
       "      <td>0.000000e+00</td>\n",
       "      <td>0.000000</td>\n",
       "      <td>C[N+](C)(C)C</td>\n",
       "    </tr>\n",
       "    <tr>\n",
       "      <th>22612</th>\n",
       "      <td>0.000000e+00</td>\n",
       "      <td>0.000000</td>\n",
       "      <td>cc(N)n(cn)[C@@H](C)O</td>\n",
       "    </tr>\n",
       "    <tr>\n",
       "      <th>10378</th>\n",
       "      <td>0.000000e+00</td>\n",
       "      <td>0.000000</td>\n",
       "      <td>CNC(=O)C(C)[NH3+]</td>\n",
       "    </tr>\n",
       "    <tr>\n",
       "      <th>10029</th>\n",
       "      <td>0.000000e+00</td>\n",
       "      <td>0.000000</td>\n",
       "      <td>CN(C)[C@@H](C(=O)[O-])C(C)(C)S</td>\n",
       "    </tr>\n",
       "    <tr>\n",
       "      <th>25798</th>\n",
       "      <td>0.000000e+00</td>\n",
       "      <td>0.000000</td>\n",
       "      <td>cnc(N)c(c)C</td>\n",
       "    </tr>\n",
       "    <tr>\n",
       "      <th>861</th>\n",
       "      <td>1.379678e-13</td>\n",
       "      <td>23.479002</td>\n",
       "      <td>[Fe]</td>\n",
       "    </tr>\n",
       "    <tr>\n",
       "      <th>17924</th>\n",
       "      <td>1.379678e-13</td>\n",
       "      <td>23.479002</td>\n",
       "      <td>[Fe]</td>\n",
       "    </tr>\n",
       "    <tr>\n",
       "      <th>17934</th>\n",
       "      <td>7.329150e-13</td>\n",
       "      <td>23.591897</td>\n",
       "      <td>[Mn]</td>\n",
       "    </tr>\n",
       "    <tr>\n",
       "      <th>872</th>\n",
       "      <td>7.329150e-13</td>\n",
       "      <td>23.591897</td>\n",
       "      <td>[Mn]</td>\n",
       "    </tr>\n",
       "  </tbody>\n",
       "</table>\n",
       "<p>155 rows × 3 columns</p>\n",
       "</div>"
      ],
      "text/plain": [
       "               coef        cov                           group\n",
       "794   -5.459416e-13  23.594649                               S\n",
       "17822 -5.459416e-13  23.594649                               S\n",
       "25109  0.000000e+00   0.000000                   ccc(cc)C(N)=O\n",
       "3843   0.000000e+00   8.805414                 CC(=C)C(C)(C)CC\n",
       "13024  0.000000e+00   0.000000              C[C@@H](O)C[NH2+]C\n",
       "15077  0.000000e+00   0.000000                C[C@H](O)C(=O)NC\n",
       "21118  0.000000e+00   0.000000   c[C@@H](C)[C@@H](CC)[C@H](C)C\n",
       "15083  0.000000e+00   0.000000         C[C@H](O)C(=O)[C@H](C)O\n",
       "15220  0.000000e+00   0.000000            C[C@H](O)[C@@H](C)OC\n",
       "21865  0.000000e+00   0.000000                    c[nH+]cn(c)C\n",
       "12278  0.000000e+00   0.000000                   C[C@@H](C)CCC\n",
       "25337  0.000000e+00   0.000000                        cccc(C)s\n",
       "14433  0.000000e+00   0.000000                      C[C@H](C)N\n",
       "24698  0.000000e+00   0.000000                     ccc(I)c(c)O\n",
       "13988  0.000000e+00   0.000000                 C[C@@](C)(O)CCO\n",
       "24756  0.000000e+00   0.000000                     ccc(O)c(c)O\n",
       "5016   0.000000e+00   0.000000              CC(C)(C)S[C@H](C)N\n",
       "11192  0.000000e+00   0.000000                       COCC(=C)C\n",
       "14413  0.000000e+00   0.000000             C[C@H](C)C[C@H](C)O\n",
       "4634   0.000000e+00   0.000000            CC(=O)[C@@H](O)C(O)O\n",
       "473    0.000000e+00  33.265883                      C[C@H](N)S\n",
       "24776  0.000000e+00   0.000000                    ccc(OC)c(c)O\n",
       "22374  0.000000e+00   0.000000                     cc(C)cc(c)I\n",
       "14983  0.000000e+00   0.000000              C[C@H](N)C(C)(C)SC\n",
       "12957  0.000000e+00   0.000000               C[C@@H](O)C(OC)OC\n",
       "528    0.000000e+00  33.290443                    C[N+](C)(C)C\n",
       "4968   0.000000e+00   0.000000                     CC(C)(C)COP\n",
       "13087  0.000000e+00   0.000000           C[C@@H](O)[C@@H](O)CC\n",
       "3358   0.000000e+00  27.733442                          C=C\\CC\n",
       "12014  0.000000e+00   0.000000                            CSCC\n",
       "...             ...        ...                             ...\n",
       "25400  0.000000e+00   0.000000                           ccccs\n",
       "20632  0.000000e+00   0.000000            cN[C@@H](C)[C@H](C)N\n",
       "2349   0.000000e+00  32.276005     C=C(C)[C@](C)(CC)[C@@H](C)C\n",
       "8033   0.000000e+00   0.000000                       CCC=C(C)C\n",
       "10394  0.000000e+00   0.000000                       CNC(=O)CO\n",
       "25480  0.000000e+00   0.000000                        ccnc(c)C\n",
       "25514  0.000000e+00   0.000000                        ccsc(c)C\n",
       "162    0.000000e+00  33.283000                       CC(C)(C)S\n",
       "9484   0.000000e+00   0.000000                  CC[C@](C)(O)CC\n",
       "22972  0.000000e+00   0.000000             cc([nH])N[C@@H](C)C\n",
       "9786   0.000000e+00   0.000000                       CCc(cc)sc\n",
       "6234   0.000000e+00   0.000000                        CC(N)C=O\n",
       "9896   0.000000e+00   0.000000         CN(C)C(C(=O)[O-])=C(C)C\n",
       "22611  0.000000e+00   0.000000        cc(N)n(c[nH+])[C@@H](C)O\n",
       "22696  0.000000e+00   0.000000                  cc(O)c(O)c(c)O\n",
       "6157   0.000000e+00   0.000000                   CC(N)=C(CO)CS\n",
       "1147   0.000000e+00  33.179985                     c[C@@H](C)C\n",
       "16397  0.000000e+00   0.000000                  C[N+](C)(C)CCO\n",
       "26255  0.000000e+00   0.000000                       nc(N)[nH]\n",
       "6013   0.000000e+00   0.000000                     CC(C)[NH3+]\n",
       "22613  0.000000e+00   0.000000                     cc(N)nc(C)n\n",
       "16389  0.000000e+00   0.000000                    C[N+](C)(C)C\n",
       "22612  0.000000e+00   0.000000            cc(N)n(cn)[C@@H](C)O\n",
       "10378  0.000000e+00   0.000000               CNC(=O)C(C)[NH3+]\n",
       "10029  0.000000e+00   0.000000  CN(C)[C@@H](C(=O)[O-])C(C)(C)S\n",
       "25798  0.000000e+00   0.000000                     cnc(N)c(c)C\n",
       "861    1.379678e-13  23.479002                            [Fe]\n",
       "17924  1.379678e-13  23.479002                            [Fe]\n",
       "17934  7.329150e-13  23.591897                            [Mn]\n",
       "872    7.329150e-13  23.591897                            [Mn]\n",
       "\n",
       "[155 rows x 3 columns]"
      ]
     },
     "execution_count": 186,
     "metadata": {},
     "output_type": "execute_result"
    }
   ],
   "source": [
    "df_TECRDB_all[(df_TECRDB_all['coef']<1e-3) & (df_TECRDB_all['coef']>-1e-3)]"
   ]
  },
  {
   "cell_type": "code",
   "execution_count": 188,
   "metadata": {},
   "outputs": [
    {
     "data": {
      "text/html": [
       "<div>\n",
       "<style scoped>\n",
       "    .dataframe tbody tr th:only-of-type {\n",
       "        vertical-align: middle;\n",
       "    }\n",
       "\n",
       "    .dataframe tbody tr th {\n",
       "        vertical-align: top;\n",
       "    }\n",
       "\n",
       "    .dataframe thead th {\n",
       "        text-align: right;\n",
       "    }\n",
       "</style>\n",
       "<table border=\"1\" class=\"dataframe\">\n",
       "  <thead>\n",
       "    <tr style=\"text-align: right;\">\n",
       "      <th></th>\n",
       "      <th>coef</th>\n",
       "      <th>cov</th>\n",
       "      <th>group</th>\n",
       "    </tr>\n",
       "  </thead>\n",
       "  <tbody>\n",
       "    <tr>\n",
       "      <th>869</th>\n",
       "      <td>-226.531632</td>\n",
       "      <td>23.591848</td>\n",
       "      <td>[Mg+2]</td>\n",
       "    </tr>\n",
       "    <tr>\n",
       "      <th>17931</th>\n",
       "      <td>-226.531632</td>\n",
       "      <td>23.591848</td>\n",
       "      <td>[Mg+2]</td>\n",
       "    </tr>\n",
       "  </tbody>\n",
       "</table>\n",
       "</div>"
      ],
      "text/plain": [
       "             coef        cov   group\n",
       "869   -226.531632  23.591848  [Mg+2]\n",
       "17931 -226.531632  23.591848  [Mg+2]"
      ]
     },
     "execution_count": 188,
     "metadata": {},
     "output_type": "execute_result"
    }
   ],
   "source": [
    "df_TECRDB_all[(df_TECRDB_all['coef']<-225)]"
   ]
  },
  {
   "cell_type": "markdown",
   "metadata": {},
   "source": [
    "## analyze groups contribution "
   ]
  },
  {
   "cell_type": "code",
   "execution_count": 190,
   "metadata": {},
   "outputs": [
    {
     "data": {
      "text/plain": [
       "0.09299612677498964"
      ]
     },
     "execution_count": 190,
     "metadata": {},
     "output_type": "execute_result"
    }
   ],
   "source": [
    "regr_rcombined.alpha_"
   ]
  },
  {
   "cell_type": "code",
   "execution_count": 194,
   "metadata": {},
   "outputs": [],
   "source": [
    "alpha_val = regr_rcombined.lambda_"
   ]
  },
  {
   "cell_type": "code",
   "execution_count": 195,
   "metadata": {},
   "outputs": [
    {
     "data": {
      "text/plain": [
       "33.29056126498055"
      ]
     },
     "execution_count": 195,
     "metadata": {},
     "output_type": "execute_result"
    }
   ],
   "source": [
    "std_dev_dg_group = np.sqrt(1/alpha_val)\n",
    "std_dev_dg_group"
   ]
  },
  {
   "cell_type": "markdown",
   "metadata": {},
   "source": [
    "# analyze zero group change"
   ]
  },
  {
   "cell_type": "markdown",
   "metadata": {},
   "source": [
    "## component contribution reactions with zero group changes"
   ]
  },
  {
   "cell_type": "code",
   "execution_count": 203,
   "metadata": {},
   "outputs": [
    {
     "data": {
      "text/plain": [
       "319"
      ]
     },
     "execution_count": 203,
     "metadata": {},
     "output_type": "execute_result"
    }
   ],
   "source": [
    "df_cc = pd.read_csv('./data/rule_cc.csv',index_col=0)\n",
    "all_zeros = df_cc.loc[:, (df_cc == 0).all()]\n",
    "rxns_zeros = all_zeros.columns.tolist()\n",
    "len(rxns_zeros)\n"
   ]
  },
  {
   "cell_type": "code",
   "execution_count": 202,
   "metadata": {},
   "outputs": [],
   "source": [
    "db = pd.read_excel('./data/optstoic_v3_complete_table.xlsx')"
   ]
  },
  {
   "cell_type": "code",
   "execution_count": 204,
   "metadata": {},
   "outputs": [],
   "source": [
    "dframe = db[db['reaction_id'].isin(rxns_zeros)]"
   ]
  },
  {
   "cell_type": "code",
   "execution_count": 209,
   "metadata": {},
   "outputs": [
    {
     "name": "stderr",
     "output_type": "stream",
     "text": [
      "C:\\Users\\vuu10\\AppData\\Local\\Continuum\\anaconda3\\envs\\new_env\\lib\\site-packages\\ipykernel_launcher.py:11: SettingWithCopyWarning: \n",
      "A value is trying to be set on a copy of a slice from a DataFrame.\n",
      "Try using .loc[row_indexer,col_indexer] = value instead\n",
      "\n",
      "See the caveats in the documentation: http://pandas.pydata.org/pandas-docs/stable/indexing.html#indexing-view-versus-copy\n",
      "  # This is added back by InteractiveShellApp.init_path()\n"
     ]
    }
   ],
   "source": [
    "first_digit = []\n",
    "\n",
    "for a in dframe['EC_number'].tolist():\n",
    "#     print(a)\n",
    "    if '.' in str(a):\n",
    "        first_digit.append(a[0])\n",
    "    else:\n",
    "        first_digit.append(None)\n",
    "# first_digit = pd.DataFrame(first_digit).reset_index()\n",
    "\n",
    "dframe['EC_first_digit'] = first_digit"
   ]
  },
  {
   "cell_type": "code",
   "execution_count": null,
   "metadata": {},
   "outputs": [],
   "source": []
  },
  {
   "cell_type": "code",
   "execution_count": 197,
   "metadata": {},
   "outputs": [
    {
     "data": {
      "text/html": [
       "<div>\n",
       "<style scoped>\n",
       "    .dataframe tbody tr th:only-of-type {\n",
       "        vertical-align: middle;\n",
       "    }\n",
       "\n",
       "    .dataframe tbody tr th {\n",
       "        vertical-align: top;\n",
       "    }\n",
       "\n",
       "    .dataframe thead th {\n",
       "        text-align: right;\n",
       "    }\n",
       "</style>\n",
       "<table border=\"1\" class=\"dataframe\">\n",
       "  <thead>\n",
       "    <tr style=\"text-align: right;\">\n",
       "      <th></th>\n",
       "      <th>FACOAE120</th>\n",
       "      <th>R00004</th>\n",
       "      <th>R00005</th>\n",
       "      <th>R00006</th>\n",
       "      <th>R00008</th>\n",
       "      <th>R00009</th>\n",
       "      <th>R00010</th>\n",
       "      <th>R00011</th>\n",
       "      <th>R00012</th>\n",
       "      <th>R00013</th>\n",
       "      <th>...</th>\n",
       "      <th>R11107</th>\n",
       "      <th>R11113</th>\n",
       "      <th>R11114</th>\n",
       "      <th>R11115</th>\n",
       "      <th>R11116</th>\n",
       "      <th>R11117</th>\n",
       "      <th>R11118</th>\n",
       "      <th>R11119</th>\n",
       "      <th>R11124</th>\n",
       "      <th>R11125</th>\n",
       "    </tr>\n",
       "  </thead>\n",
       "  <tbody>\n",
       "    <tr>\n",
       "      <th>BO</th>\n",
       "      <td>0.0</td>\n",
       "      <td>0.0</td>\n",
       "      <td>0.0</td>\n",
       "      <td>0.0</td>\n",
       "      <td>0.0</td>\n",
       "      <td>0.0</td>\n",
       "      <td>0.0</td>\n",
       "      <td>0.0</td>\n",
       "      <td>0.0</td>\n",
       "      <td>0.0</td>\n",
       "      <td>...</td>\n",
       "      <td>0.0</td>\n",
       "      <td>0.0</td>\n",
       "      <td>0.0</td>\n",
       "      <td>0.0</td>\n",
       "      <td>0.0</td>\n",
       "      <td>0.0</td>\n",
       "      <td>0.0</td>\n",
       "      <td>0.0</td>\n",
       "      <td>0.0</td>\n",
       "      <td>0.0</td>\n",
       "    </tr>\n",
       "    <tr>\n",
       "      <th>Bc(c)c</th>\n",
       "      <td>0.0</td>\n",
       "      <td>0.0</td>\n",
       "      <td>0.0</td>\n",
       "      <td>0.0</td>\n",
       "      <td>0.0</td>\n",
       "      <td>0.0</td>\n",
       "      <td>0.0</td>\n",
       "      <td>0.0</td>\n",
       "      <td>0.0</td>\n",
       "      <td>0.0</td>\n",
       "      <td>...</td>\n",
       "      <td>0.0</td>\n",
       "      <td>0.0</td>\n",
       "      <td>0.0</td>\n",
       "      <td>0.0</td>\n",
       "      <td>0.0</td>\n",
       "      <td>0.0</td>\n",
       "      <td>0.0</td>\n",
       "      <td>0.0</td>\n",
       "      <td>0.0</td>\n",
       "      <td>0.0</td>\n",
       "    </tr>\n",
       "    <tr>\n",
       "      <th>BrC(Br)Br</th>\n",
       "      <td>0.0</td>\n",
       "      <td>0.0</td>\n",
       "      <td>0.0</td>\n",
       "      <td>0.0</td>\n",
       "      <td>0.0</td>\n",
       "      <td>0.0</td>\n",
       "      <td>0.0</td>\n",
       "      <td>0.0</td>\n",
       "      <td>0.0</td>\n",
       "      <td>0.0</td>\n",
       "      <td>...</td>\n",
       "      <td>0.0</td>\n",
       "      <td>0.0</td>\n",
       "      <td>0.0</td>\n",
       "      <td>0.0</td>\n",
       "      <td>0.0</td>\n",
       "      <td>0.0</td>\n",
       "      <td>0.0</td>\n",
       "      <td>0.0</td>\n",
       "      <td>0.0</td>\n",
       "      <td>0.0</td>\n",
       "    </tr>\n",
       "    <tr>\n",
       "      <th>C</th>\n",
       "      <td>0.0</td>\n",
       "      <td>0.0</td>\n",
       "      <td>0.0</td>\n",
       "      <td>0.0</td>\n",
       "      <td>0.0</td>\n",
       "      <td>0.0</td>\n",
       "      <td>0.0</td>\n",
       "      <td>0.0</td>\n",
       "      <td>0.0</td>\n",
       "      <td>0.0</td>\n",
       "      <td>...</td>\n",
       "      <td>0.0</td>\n",
       "      <td>0.0</td>\n",
       "      <td>0.0</td>\n",
       "      <td>0.0</td>\n",
       "      <td>0.0</td>\n",
       "      <td>0.0</td>\n",
       "      <td>0.0</td>\n",
       "      <td>0.0</td>\n",
       "      <td>0.0</td>\n",
       "      <td>0.0</td>\n",
       "    </tr>\n",
       "    <tr>\n",
       "      <th>C#C</th>\n",
       "      <td>0.0</td>\n",
       "      <td>0.0</td>\n",
       "      <td>0.0</td>\n",
       "      <td>0.0</td>\n",
       "      <td>0.0</td>\n",
       "      <td>0.0</td>\n",
       "      <td>0.0</td>\n",
       "      <td>0.0</td>\n",
       "      <td>0.0</td>\n",
       "      <td>0.0</td>\n",
       "      <td>...</td>\n",
       "      <td>0.0</td>\n",
       "      <td>0.0</td>\n",
       "      <td>0.0</td>\n",
       "      <td>0.0</td>\n",
       "      <td>0.0</td>\n",
       "      <td>0.0</td>\n",
       "      <td>0.0</td>\n",
       "      <td>0.0</td>\n",
       "      <td>0.0</td>\n",
       "      <td>0.0</td>\n",
       "    </tr>\n",
       "  </tbody>\n",
       "</table>\n",
       "<p>5 rows × 7053 columns</p>\n",
       "</div>"
      ],
      "text/plain": [
       "           FACOAE120  R00004  R00005  R00006  R00008  R00009  R00010  R00011  \\\n",
       "BO               0.0     0.0     0.0     0.0     0.0     0.0     0.0     0.0   \n",
       "Bc(c)c           0.0     0.0     0.0     0.0     0.0     0.0     0.0     0.0   \n",
       "BrC(Br)Br        0.0     0.0     0.0     0.0     0.0     0.0     0.0     0.0   \n",
       "C                0.0     0.0     0.0     0.0     0.0     0.0     0.0     0.0   \n",
       "C#C              0.0     0.0     0.0     0.0     0.0     0.0     0.0     0.0   \n",
       "\n",
       "           R00012  R00013  ...  R11107  R11113  R11114  R11115  R11116  \\\n",
       "BO            0.0     0.0  ...     0.0     0.0     0.0     0.0     0.0   \n",
       "Bc(c)c        0.0     0.0  ...     0.0     0.0     0.0     0.0     0.0   \n",
       "BrC(Br)Br     0.0     0.0  ...     0.0     0.0     0.0     0.0     0.0   \n",
       "C             0.0     0.0  ...     0.0     0.0     0.0     0.0     0.0   \n",
       "C#C           0.0     0.0  ...     0.0     0.0     0.0     0.0     0.0   \n",
       "\n",
       "           R11117  R11118  R11119  R11124  R11125  \n",
       "BO            0.0     0.0     0.0     0.0     0.0  \n",
       "Bc(c)c        0.0     0.0     0.0     0.0     0.0  \n",
       "BrC(Br)Br     0.0     0.0     0.0     0.0     0.0  \n",
       "C             0.0     0.0     0.0     0.0     0.0  \n",
       "C#C           0.0     0.0     0.0     0.0     0.0  \n",
       "\n",
       "[5 rows x 7053 columns]"
      ]
     },
     "execution_count": 197,
     "metadata": {},
     "output_type": "execute_result"
    }
   ],
   "source": [
    "df_all.head()"
   ]
  },
  {
   "cell_type": "code",
   "execution_count": 212,
   "metadata": {},
   "outputs": [
    {
     "data": {
      "text/plain": [
       "43"
      ]
     },
     "execution_count": 212,
     "metadata": {},
     "output_type": "execute_result"
    }
   ],
   "source": [
    "all_ac = df_all.loc[:, (df_all == 0).all()]\n",
    "rxns_zeros_ac = all_ac.columns.tolist()\n",
    "len(rxns_zeros_ac)"
   ]
  },
  {
   "cell_type": "code",
   "execution_count": 214,
   "metadata": {},
   "outputs": [],
   "source": [
    "df_all1 = dframe[~dframe['reaction_id'].isin(rxns_zeros_ac)]"
   ]
  },
  {
   "cell_type": "code",
   "execution_count": 215,
   "metadata": {},
   "outputs": [
    {
     "data": {
      "text/plain": [
       "(277, 28)"
      ]
     },
     "execution_count": 215,
     "metadata": {},
     "output_type": "execute_result"
    }
   ],
   "source": [
    "df_all1.shape"
   ]
  },
  {
   "cell_type": "code",
   "execution_count": 217,
   "metadata": {},
   "outputs": [
    {
     "data": {
      "text/plain": [
       "42"
      ]
     },
     "execution_count": 217,
     "metadata": {},
     "output_type": "execute_result"
    }
   ],
   "source": [
    "319-277"
   ]
  },
  {
   "cell_type": "code",
   "execution_count": 218,
   "metadata": {},
   "outputs": [
    {
     "name": "stderr",
     "output_type": "stream",
     "text": [
      "C:\\Users\\vuu10\\AppData\\Local\\Continuum\\anaconda3\\envs\\new_env\\lib\\site-packages\\ipykernel_launcher.py:8: SettingWithCopyWarning: \n",
      "A value is trying to be set on a copy of a slice from a DataFrame.\n",
      "Try using .loc[row_indexer,col_indexer] = value instead\n",
      "\n",
      "See the caveats in the documentation: http://pandas.pydata.org/pandas-docs/stable/indexing.html#indexing-view-versus-copy\n",
      "  \n"
     ]
    }
   ],
   "source": [
    "tmp = []\n",
    "for i,r in enumerate(dframe['reaction_id'].tolist()):\n",
    "    if r in rxns_zeros_ac:\n",
    "        tmp.append(None)\n",
    "    else:\n",
    "        tmp.append(first_digit[i])\n",
    "\n",
    "dframe['EC_first_digit_dGPredictor'] =tmp "
   ]
  },
  {
   "cell_type": "code",
   "execution_count": 223,
   "metadata": {},
   "outputs": [
    {
     "data": {
      "text/plain": [
       "<matplotlib.legend.Legend at 0x54ba3e08>"
      ]
     },
     "execution_count": 223,
     "metadata": {},
     "output_type": "execute_result"
    },
    {
     "data": {
      "image/png": "[encoded data removed]",
      "text/plain": [
       "<Figure size 432x288 with 1 Axes>"
      ]
     },
     "metadata": {},
     "output_type": "display_data"
    }
   ],
   "source": [
    "ax = dframe[['EC_first_digit','EC_first_digit_dGPredictor']].apply(pd.Series.value_counts).plot(kind=\"bar\")\n",
    "ax.legend([\"component contribution\", \"resolved by dGPredictor\"], loc='best',prop={'size': 9})#,bbox_to_anchor=(1.0, 0.5))"
   ]
  },
  {
   "cell_type": "code",
   "execution_count": 225,
   "metadata": {},
   "outputs": [
    {
     "data": {
      "text/html": [
       "<div>\n",
       "<style scoped>\n",
       "    .dataframe tbody tr th:only-of-type {\n",
       "        vertical-align: middle;\n",
       "    }\n",
       "\n",
       "    .dataframe tbody tr th {\n",
       "        vertical-align: top;\n",
       "    }\n",
       "\n",
       "    .dataframe thead th {\n",
       "        text-align: right;\n",
       "    }\n",
       "</style>\n",
       "<table border=\"1\" class=\"dataframe\">\n",
       "  <thead>\n",
       "    <tr style=\"text-align: right;\">\n",
       "      <th></th>\n",
       "      <th>EC_first_digit</th>\n",
       "      <th>EC_first_digit_dGPredictor</th>\n",
       "    </tr>\n",
       "  </thead>\n",
       "  <tbody>\n",
       "    <tr>\n",
       "      <th>1</th>\n",
       "      <td>13</td>\n",
       "      <td>11.0</td>\n",
       "    </tr>\n",
       "    <tr>\n",
       "      <th>2</th>\n",
       "      <td>146</td>\n",
       "      <td>128.0</td>\n",
       "    </tr>\n",
       "    <tr>\n",
       "      <th>3</th>\n",
       "      <td>1</td>\n",
       "      <td>NaN</td>\n",
       "    </tr>\n",
       "    <tr>\n",
       "      <th>4</th>\n",
       "      <td>2</td>\n",
       "      <td>NaN</td>\n",
       "    </tr>\n",
       "    <tr>\n",
       "      <th>5</th>\n",
       "      <td>126</td>\n",
       "      <td>110.0</td>\n",
       "    </tr>\n",
       "  </tbody>\n",
       "</table>\n",
       "</div>"
      ],
      "text/plain": [
       "   EC_first_digit  EC_first_digit_dGPredictor\n",
       "1              13                        11.0\n",
       "2             146                       128.0\n",
       "3               1                         NaN\n",
       "4               2                         NaN\n",
       "5             126                       110.0"
      ]
     },
     "execution_count": 225,
     "metadata": {},
     "output_type": "execute_result"
    }
   ],
   "source": [
    "dframe[['EC_first_digit','EC_first_digit_dGPredictor']].apply(pd.Series.value_counts)"
   ]
  },
  {
   "cell_type": "code",
   "execution_count": 229,
   "metadata": {},
   "outputs": [
    {
     "data": {
      "text/plain": [
       "288"
      ]
     },
     "execution_count": 229,
     "metadata": {},
     "output_type": "execute_result"
    }
   ],
   "source": [
    "13+146+1+2+126"
   ]
  },
  {
   "cell_type": "code",
   "execution_count": 230,
   "metadata": {},
   "outputs": [
    {
     "data": {
      "text/plain": [
       "152"
      ]
     },
     "execution_count": 230,
     "metadata": {},
     "output_type": "execute_result"
    }
   ],
   "source": [
    "5 + 54+93"
   ]
  },
  {
   "cell_type": "code",
   "execution_count": 231,
   "metadata": {},
   "outputs": [
    {
     "data": {
      "text/plain": [
       "31"
      ]
     },
     "execution_count": 231,
     "metadata": {},
     "output_type": "execute_result"
    }
   ],
   "source": [
    "319-288"
   ]
  },
  {
   "cell_type": "code",
   "execution_count": 233,
   "metadata": {},
   "outputs": [],
   "source": [
    "dframe.to_csv('./result/analyze_zero_group_change.csv')"
   ]
  },
  {
   "cell_type": "code",
   "execution_count": 234,
   "metadata": {},
   "outputs": [],
   "source": [
    "df_all2 = dframe[dframe['reaction_id'].isin(rxns_zeros_ac)]"
   ]
  },
  {
   "cell_type": "code",
   "execution_count": 271,
   "metadata": {},
   "outputs": [
    {
     "data": {
      "text/html": [
       "<div>\n",
       "<style scoped>\n",
       "    .dataframe tbody tr th:only-of-type {\n",
       "        vertical-align: middle;\n",
       "    }\n",
       "\n",
       "    .dataframe tbody tr th {\n",
       "        vertical-align: top;\n",
       "    }\n",
       "\n",
       "    .dataframe thead th {\n",
       "        text-align: right;\n",
       "    }\n",
       "</style>\n",
       "<table border=\"1\" class=\"dataframe\">\n",
       "  <thead>\n",
       "    <tr style=\"text-align: right;\">\n",
       "      <th></th>\n",
       "      <th>reaction_id</th>\n",
       "      <th>description</th>\n",
       "      <th>EC_number</th>\n",
       "      <th>reaction_elemental_balance</th>\n",
       "      <th>new_reaction_enter_db</th>\n",
       "      <th>reaction_equation</th>\n",
       "      <th>reaction</th>\n",
       "      <th>reaction_formula</th>\n",
       "      <th>old_database_dG0prime (kcal/mol)</th>\n",
       "      <th>old_database_reaction_type</th>\n",
       "      <th>...</th>\n",
       "      <th>dG_cannot_estimate_by_component_contribution</th>\n",
       "      <th>pH_7.0_dG_prime_lo (kJ/mol)</th>\n",
       "      <th>pH_7.0_dG_prime_up (kJ/mol)</th>\n",
       "      <th>rxntype_curated</th>\n",
       "      <th>rxntype_from_dG</th>\n",
       "      <th>reaction_type</th>\n",
       "      <th>lower_bound (mmol/gDW h)</th>\n",
       "      <th>upper_bound (mmol/gDW h)</th>\n",
       "      <th>EC_first_digit</th>\n",
       "      <th>EC_first_digit_dGPredictor</th>\n",
       "    </tr>\n",
       "  </thead>\n",
       "  <tbody>\n",
       "    <tr>\n",
       "      <th>39</th>\n",
       "      <td>R00062</td>\n",
       "      <td>bilirubin-glucuronoside:bilirubin-glucuronosid...</td>\n",
       "      <td>2.4.1.95</td>\n",
       "      <td>All balanced</td>\n",
       "      <td>1</td>\n",
       "      <td>2 Bilirubin-glucuronoside &lt;=&gt; Bilirubin + Bili...</td>\n",
       "      <td>2 C03374 &lt;=&gt; C00486 + C05787</td>\n",
       "      <td>2 C39H44N4O12 &lt;=&gt; C33H36N4O6 + C45H52N4O18</td>\n",
       "      <td>-0.1</td>\n",
       "      <td>1.0</td>\n",
       "      <td>...</td>\n",
       "      <td>1</td>\n",
       "      <td>0.000000</td>\n",
       "      <td>0.000000</td>\n",
       "      <td>NaN</td>\n",
       "      <td>1</td>\n",
       "      <td>1</td>\n",
       "      <td>-1000</td>\n",
       "      <td>1000</td>\n",
       "      <td>2</td>\n",
       "      <td>None</td>\n",
       "    </tr>\n",
       "    <tr>\n",
       "      <th>71</th>\n",
       "      <td>R00112</td>\n",
       "      <td>NADPH:NAD+ oxidoreductase</td>\n",
       "      <td>1.6.1.1;1.6.1.2;1.6.1.3</td>\n",
       "      <td>All balanced</td>\n",
       "      <td>1</td>\n",
       "      <td>NADPH + NAD+ &lt;=&gt; NADP+ + NADH</td>\n",
       "      <td>C00005 + C00003 &lt;=&gt; C00006 + C00004</td>\n",
       "      <td>C21H30N7O17P3 + C21H28N7O14P2 &lt;=&gt; C21H29N7O17P...</td>\n",
       "      <td>1.7</td>\n",
       "      <td>1.0</td>\n",
       "      <td>...</td>\n",
       "      <td>0</td>\n",
       "      <td>-58.056398</td>\n",
       "      <td>56.097440</td>\n",
       "      <td>NaN</td>\n",
       "      <td>1</td>\n",
       "      <td>1</td>\n",
       "      <td>-1000</td>\n",
       "      <td>1000</td>\n",
       "      <td>1</td>\n",
       "      <td>None</td>\n",
       "    </tr>\n",
       "    <tr>\n",
       "      <th>91</th>\n",
       "      <td>R00139</td>\n",
       "      <td>ATP:2'-deoxy-5-hydroxymethylcytidine-5'-diphos...</td>\n",
       "      <td>2.7.4.6</td>\n",
       "      <td>All balanced</td>\n",
       "      <td>1</td>\n",
       "      <td>2'-Deoxy-5-hydroxymethylcytidine-5'-diphosphat...</td>\n",
       "      <td>C11038 + C00002 &lt;=&gt; C11039 + C00008</td>\n",
       "      <td>C10H17N3O11P2 + C10H16N5O13P3 &lt;=&gt; C10H18N3O14P...</td>\n",
       "      <td>0.0</td>\n",
       "      <td>1.0</td>\n",
       "      <td>...</td>\n",
       "      <td>0</td>\n",
       "      <td>-54.412978</td>\n",
       "      <td>59.740860</td>\n",
       "      <td>NaN</td>\n",
       "      <td>1</td>\n",
       "      <td>1</td>\n",
       "      <td>-1000</td>\n",
       "      <td>1000</td>\n",
       "      <td>2</td>\n",
       "      <td>None</td>\n",
       "    </tr>\n",
       "    <tr>\n",
       "      <th>99</th>\n",
       "      <td>R00156</td>\n",
       "      <td>ATP:UDP phosphotransferase</td>\n",
       "      <td>2.7.4.6</td>\n",
       "      <td>All balanced</td>\n",
       "      <td>1</td>\n",
       "      <td>ATP + UDP &lt;=&gt; ADP + UTP</td>\n",
       "      <td>C00002 + C00015 &lt;=&gt; C00008 + C00075</td>\n",
       "      <td>C10H16N5O13P3 + C9H14N2O12P2 &lt;=&gt; C10H15N5O10P2...</td>\n",
       "      <td>0.0</td>\n",
       "      <td>1.0</td>\n",
       "      <td>...</td>\n",
       "      <td>0</td>\n",
       "      <td>-59.423639</td>\n",
       "      <td>54.730200</td>\n",
       "      <td>NaN</td>\n",
       "      <td>1</td>\n",
       "      <td>1</td>\n",
       "      <td>-1000</td>\n",
       "      <td>1000</td>\n",
       "      <td>2</td>\n",
       "      <td>None</td>\n",
       "    </tr>\n",
       "    <tr>\n",
       "      <th>217</th>\n",
       "      <td>R00330</td>\n",
       "      <td>ATP:GDP phosphotransferase</td>\n",
       "      <td>2.7.4.6</td>\n",
       "      <td>All balanced</td>\n",
       "      <td>1</td>\n",
       "      <td>ATP + GDP &lt;=&gt; ADP + GTP</td>\n",
       "      <td>C00002 + C00035 &lt;=&gt; C00008 + C00044</td>\n",
       "      <td>C10H16N5O13P3 + C10H15N5O11P2 &lt;=&gt; C10H15N5O10P...</td>\n",
       "      <td>0.0</td>\n",
       "      <td>1.0</td>\n",
       "      <td>...</td>\n",
       "      <td>0</td>\n",
       "      <td>-59.548720</td>\n",
       "      <td>54.605118</td>\n",
       "      <td>NaN</td>\n",
       "      <td>1</td>\n",
       "      <td>1</td>\n",
       "      <td>-1000</td>\n",
       "      <td>1000</td>\n",
       "      <td>2</td>\n",
       "      <td>None</td>\n",
       "    </tr>\n",
       "  </tbody>\n",
       "</table>\n",
       "<p>5 rows × 29 columns</p>\n",
       "</div>"
      ],
      "text/plain": [
       "    reaction_id                                        description  \\\n",
       "39       R00062  bilirubin-glucuronoside:bilirubin-glucuronosid...   \n",
       "71       R00112                          NADPH:NAD+ oxidoreductase   \n",
       "91       R00139  ATP:2'-deoxy-5-hydroxymethylcytidine-5'-diphos...   \n",
       "99       R00156                         ATP:UDP phosphotransferase   \n",
       "217      R00330                         ATP:GDP phosphotransferase   \n",
       "\n",
       "                   EC_number reaction_elemental_balance  \\\n",
       "39                  2.4.1.95               All balanced   \n",
       "71   1.6.1.1;1.6.1.2;1.6.1.3               All balanced   \n",
       "91                   2.7.4.6               All balanced   \n",
       "99                   2.7.4.6               All balanced   \n",
       "217                  2.7.4.6               All balanced   \n",
       "\n",
       "     new_reaction_enter_db                                  reaction_equation  \\\n",
       "39                       1  2 Bilirubin-glucuronoside <=> Bilirubin + Bili...   \n",
       "71                       1                      NADPH + NAD+ <=> NADP+ + NADH   \n",
       "91                       1  2'-Deoxy-5-hydroxymethylcytidine-5'-diphosphat...   \n",
       "99                       1                            ATP + UDP <=> ADP + UTP   \n",
       "217                      1                            ATP + GDP <=> ADP + GTP   \n",
       "\n",
       "                                reaction  \\\n",
       "39          2 C03374 <=> C00486 + C05787   \n",
       "71   C00005 + C00003 <=> C00006 + C00004   \n",
       "91   C11038 + C00002 <=> C11039 + C00008   \n",
       "99   C00002 + C00015 <=> C00008 + C00075   \n",
       "217  C00002 + C00035 <=> C00008 + C00044   \n",
       "\n",
       "                                      reaction_formula  \\\n",
       "39          2 C39H44N4O12 <=> C33H36N4O6 + C45H52N4O18   \n",
       "71   C21H30N7O17P3 + C21H28N7O14P2 <=> C21H29N7O17P...   \n",
       "91   C10H17N3O11P2 + C10H16N5O13P3 <=> C10H18N3O14P...   \n",
       "99   C10H16N5O13P3 + C9H14N2O12P2 <=> C10H15N5O10P2...   \n",
       "217  C10H16N5O13P3 + C10H15N5O11P2 <=> C10H15N5O10P...   \n",
       "\n",
       "     old_database_dG0prime (kcal/mol)  old_database_reaction_type  ...  \\\n",
       "39                               -0.1                         1.0  ...   \n",
       "71                                1.7                         1.0  ...   \n",
       "91                                0.0                         1.0  ...   \n",
       "99                                0.0                         1.0  ...   \n",
       "217                               0.0                         1.0  ...   \n",
       "\n",
       "    dG_cannot_estimate_by_component_contribution pH_7.0_dG_prime_lo (kJ/mol)  \\\n",
       "39                                             1                    0.000000   \n",
       "71                                             0                  -58.056398   \n",
       "91                                             0                  -54.412978   \n",
       "99                                             0                  -59.423639   \n",
       "217                                            0                  -59.548720   \n",
       "\n",
       "    pH_7.0_dG_prime_up (kJ/mol) rxntype_curated  rxntype_from_dG  \\\n",
       "39                     0.000000             NaN                1   \n",
       "71                    56.097440             NaN                1   \n",
       "91                    59.740860             NaN                1   \n",
       "99                    54.730200             NaN                1   \n",
       "217                   54.605118             NaN                1   \n",
       "\n",
       "     reaction_type  lower_bound (mmol/gDW h)  upper_bound (mmol/gDW h)  \\\n",
       "39               1                     -1000                      1000   \n",
       "71               1                     -1000                      1000   \n",
       "91               1                     -1000                      1000   \n",
       "99               1                     -1000                      1000   \n",
       "217              1                     -1000                      1000   \n",
       "\n",
       "     EC_first_digit  EC_first_digit_dGPredictor  \n",
       "39                2                        None  \n",
       "71                1                        None  \n",
       "91                2                        None  \n",
       "99                2                        None  \n",
       "217               2                        None  \n",
       "\n",
       "[5 rows x 29 columns]"
      ]
     },
     "execution_count": 271,
     "metadata": {},
     "output_type": "execute_result"
    }
   ],
   "source": [
    "df_all2.head()"
   ]
  },
  {
   "cell_type": "code",
   "execution_count": 236,
   "metadata": {},
   "outputs": [
    {
     "data": {
      "text/plain": [
       "1"
      ]
     },
     "execution_count": 236,
     "metadata": {},
     "output_type": "execute_result"
    }
   ],
   "source": [
    "df_all2"
   ]
  },
  {
   "cell_type": "code",
   "execution_count": 240,
   "metadata": {},
   "outputs": [
    {
     "data": {
      "text/plain": [
       "numpy.ndarray"
      ]
     },
     "execution_count": 240,
     "metadata": {},
     "output_type": "execute_result"
    }
   ],
   "source": [
    "type(ymean)"
   ]
  },
  {
   "cell_type": "code",
   "execution_count": 258,
   "metadata": {},
   "outputs": [],
   "source": [
    "zero_dg_rxn = np.where(ymean == 0)\n",
    "zero_dg_rxn = list(zero_dg_rxn)\n",
    "zero_dg_rxn = zero_dg_rxn[0]"
   ]
  },
  {
   "cell_type": "code",
   "execution_count": 262,
   "metadata": {},
   "outputs": [],
   "source": [
    "rxn_zero = []\n",
    "for i in zero_dg_rxn:\n",
    "    temp = i\n",
    "    rxn_zero.append(rxns[i])"
   ]
  },
  {
   "cell_type": "code",
   "execution_count": 263,
   "metadata": {},
   "outputs": [
    {
     "data": {
      "text/plain": [
       "['R01857',\n",
       " 'R03181',\n",
       " 'R00722',\n",
       " 'R04538',\n",
       " 'R00576',\n",
       " 'R03154',\n",
       " 'R00119',\n",
       " 'R01109',\n",
       " 'R07832']"
      ]
     },
     "execution_count": 263,
     "metadata": {},
     "output_type": "execute_result"
    }
   ],
   "source": [
    "rxn_zero"
   ]
  },
  {
   "cell_type": "code",
   "execution_count": 269,
   "metadata": {},
   "outputs": [
    {
     "data": {
      "text/html": [
       "<div>\n",
       "<style scoped>\n",
       "    .dataframe tbody tr th:only-of-type {\n",
       "        vertical-align: middle;\n",
       "    }\n",
       "\n",
       "    .dataframe tbody tr th {\n",
       "        vertical-align: top;\n",
       "    }\n",
       "\n",
       "    .dataframe thead th {\n",
       "        text-align: right;\n",
       "    }\n",
       "</style>\n",
       "<table border=\"1\" class=\"dataframe\">\n",
       "  <thead>\n",
       "    <tr style=\"text-align: right;\">\n",
       "      <th></th>\n",
       "      <th>reaction_id</th>\n",
       "      <th>EC_first_digit</th>\n",
       "      <th>EC_first_digit_dGPredictor</th>\n",
       "    </tr>\n",
       "  </thead>\n",
       "  <tbody>\n",
       "    <tr>\n",
       "      <th>39</th>\n",
       "      <td>R00062</td>\n",
       "      <td>2</td>\n",
       "      <td>None</td>\n",
       "    </tr>\n",
       "    <tr>\n",
       "      <th>71</th>\n",
       "      <td>R00112</td>\n",
       "      <td>1</td>\n",
       "      <td>None</td>\n",
       "    </tr>\n",
       "    <tr>\n",
       "      <th>91</th>\n",
       "      <td>R00139</td>\n",
       "      <td>2</td>\n",
       "      <td>None</td>\n",
       "    </tr>\n",
       "    <tr>\n",
       "      <th>99</th>\n",
       "      <td>R00156</td>\n",
       "      <td>2</td>\n",
       "      <td>None</td>\n",
       "    </tr>\n",
       "    <tr>\n",
       "      <th>217</th>\n",
       "      <td>R00330</td>\n",
       "      <td>2</td>\n",
       "      <td>None</td>\n",
       "    </tr>\n",
       "    <tr>\n",
       "      <th>244</th>\n",
       "      <td>R00363</td>\n",
       "      <td>5</td>\n",
       "      <td>None</td>\n",
       "    </tr>\n",
       "    <tr>\n",
       "      <th>373</th>\n",
       "      <td>R00570</td>\n",
       "      <td>2</td>\n",
       "      <td>None</td>\n",
       "    </tr>\n",
       "    <tr>\n",
       "      <th>399</th>\n",
       "      <td>R00616</td>\n",
       "      <td>2</td>\n",
       "      <td>None</td>\n",
       "    </tr>\n",
       "    <tr>\n",
       "      <th>407</th>\n",
       "      <td>R00647</td>\n",
       "      <td>1</td>\n",
       "      <td>None</td>\n",
       "    </tr>\n",
       "    <tr>\n",
       "      <th>473</th>\n",
       "      <td>R00722</td>\n",
       "      <td>2</td>\n",
       "      <td>None</td>\n",
       "    </tr>\n",
       "    <tr>\n",
       "      <th>781</th>\n",
       "      <td>R01137</td>\n",
       "      <td>2</td>\n",
       "      <td>None</td>\n",
       "    </tr>\n",
       "    <tr>\n",
       "      <th>946</th>\n",
       "      <td>R01378</td>\n",
       "      <td>5</td>\n",
       "      <td>None</td>\n",
       "    </tr>\n",
       "    <tr>\n",
       "      <th>1077</th>\n",
       "      <td>R01571</td>\n",
       "      <td>2</td>\n",
       "      <td>None</td>\n",
       "    </tr>\n",
       "    <tr>\n",
       "      <th>1259</th>\n",
       "      <td>R01857</td>\n",
       "      <td>2</td>\n",
       "      <td>None</td>\n",
       "    </tr>\n",
       "    <tr>\n",
       "      <th>1360</th>\n",
       "      <td>R01989</td>\n",
       "      <td>2</td>\n",
       "      <td>None</td>\n",
       "    </tr>\n",
       "    <tr>\n",
       "      <th>1407</th>\n",
       "      <td>R02093</td>\n",
       "      <td>2</td>\n",
       "      <td>None</td>\n",
       "    </tr>\n",
       "    <tr>\n",
       "      <th>1542</th>\n",
       "      <td>R02303</td>\n",
       "      <td>2</td>\n",
       "      <td>None</td>\n",
       "    </tr>\n",
       "    <tr>\n",
       "      <th>1556</th>\n",
       "      <td>R02326</td>\n",
       "      <td>2</td>\n",
       "      <td>None</td>\n",
       "    </tr>\n",
       "    <tr>\n",
       "      <th>1561</th>\n",
       "      <td>R02331</td>\n",
       "      <td>2</td>\n",
       "      <td>None</td>\n",
       "    </tr>\n",
       "    <tr>\n",
       "      <th>2083</th>\n",
       "      <td>R03128</td>\n",
       "      <td>None</td>\n",
       "      <td>None</td>\n",
       "    </tr>\n",
       "    <tr>\n",
       "      <th>2110</th>\n",
       "      <td>R03181</td>\n",
       "      <td>5</td>\n",
       "      <td>None</td>\n",
       "    </tr>\n",
       "    <tr>\n",
       "      <th>2223</th>\n",
       "      <td>R03342</td>\n",
       "      <td>5</td>\n",
       "      <td>None</td>\n",
       "    </tr>\n",
       "    <tr>\n",
       "      <th>2327</th>\n",
       "      <td>R03530</td>\n",
       "      <td>2</td>\n",
       "      <td>None</td>\n",
       "    </tr>\n",
       "    <tr>\n",
       "      <th>2529</th>\n",
       "      <td>R03868</td>\n",
       "      <td>5</td>\n",
       "      <td>None</td>\n",
       "    </tr>\n",
       "    <tr>\n",
       "      <th>2546</th>\n",
       "      <td>R03892</td>\n",
       "      <td>None</td>\n",
       "      <td>None</td>\n",
       "    </tr>\n",
       "    <tr>\n",
       "      <th>2560</th>\n",
       "      <td>R03925</td>\n",
       "      <td>5</td>\n",
       "      <td>None</td>\n",
       "    </tr>\n",
       "    <tr>\n",
       "      <th>2586</th>\n",
       "      <td>R03966</td>\n",
       "      <td>5</td>\n",
       "      <td>None</td>\n",
       "    </tr>\n",
       "    <tr>\n",
       "      <th>2673</th>\n",
       "      <td>R04134</td>\n",
       "      <td>5</td>\n",
       "      <td>None</td>\n",
       "    </tr>\n",
       "    <tr>\n",
       "      <th>2810</th>\n",
       "      <td>R04379</td>\n",
       "      <td>5</td>\n",
       "      <td>None</td>\n",
       "    </tr>\n",
       "    <tr>\n",
       "      <th>2860</th>\n",
       "      <td>R04482</td>\n",
       "      <td>5</td>\n",
       "      <td>None</td>\n",
       "    </tr>\n",
       "    <tr>\n",
       "      <th>2888</th>\n",
       "      <td>R04538</td>\n",
       "      <td>5</td>\n",
       "      <td>None</td>\n",
       "    </tr>\n",
       "    <tr>\n",
       "      <th>2945</th>\n",
       "      <td>R04686</td>\n",
       "      <td>5</td>\n",
       "      <td>None</td>\n",
       "    </tr>\n",
       "    <tr>\n",
       "      <th>3364</th>\n",
       "      <td>R05389</td>\n",
       "      <td>5</td>\n",
       "      <td>None</td>\n",
       "    </tr>\n",
       "    <tr>\n",
       "      <th>4465</th>\n",
       "      <td>R07248</td>\n",
       "      <td>2</td>\n",
       "      <td>None</td>\n",
       "    </tr>\n",
       "    <tr>\n",
       "      <th>4545</th>\n",
       "      <td>R07393</td>\n",
       "      <td>3</td>\n",
       "      <td>None</td>\n",
       "    </tr>\n",
       "    <tr>\n",
       "      <th>4817</th>\n",
       "      <td>R07839</td>\n",
       "      <td>5</td>\n",
       "      <td>None</td>\n",
       "    </tr>\n",
       "    <tr>\n",
       "      <th>5308</th>\n",
       "      <td>R08591</td>\n",
       "      <td>None</td>\n",
       "      <td>None</td>\n",
       "    </tr>\n",
       "    <tr>\n",
       "      <th>6004</th>\n",
       "      <td>R09641</td>\n",
       "      <td>2</td>\n",
       "      <td>None</td>\n",
       "    </tr>\n",
       "    <tr>\n",
       "      <th>6048</th>\n",
       "      <td>R09705</td>\n",
       "      <td>5</td>\n",
       "      <td>None</td>\n",
       "    </tr>\n",
       "    <tr>\n",
       "      <th>6876</th>\n",
       "      <td>R10774</td>\n",
       "      <td>4</td>\n",
       "      <td>None</td>\n",
       "    </tr>\n",
       "    <tr>\n",
       "      <th>7043</th>\n",
       "      <td>R11034</td>\n",
       "      <td>4</td>\n",
       "      <td>None</td>\n",
       "    </tr>\n",
       "    <tr>\n",
       "      <th>7067</th>\n",
       "      <td>R11065</td>\n",
       "      <td>5</td>\n",
       "      <td>None</td>\n",
       "    </tr>\n",
       "  </tbody>\n",
       "</table>\n",
       "</div>"
      ],
      "text/plain": [
       "     reaction_id EC_first_digit EC_first_digit_dGPredictor\n",
       "39        R00062              2                       None\n",
       "71        R00112              1                       None\n",
       "91        R00139              2                       None\n",
       "99        R00156              2                       None\n",
       "217       R00330              2                       None\n",
       "244       R00363              5                       None\n",
       "373       R00570              2                       None\n",
       "399       R00616              2                       None\n",
       "407       R00647              1                       None\n",
       "473       R00722              2                       None\n",
       "781       R01137              2                       None\n",
       "946       R01378              5                       None\n",
       "1077      R01571              2                       None\n",
       "1259      R01857              2                       None\n",
       "1360      R01989              2                       None\n",
       "1407      R02093              2                       None\n",
       "1542      R02303              2                       None\n",
       "1556      R02326              2                       None\n",
       "1561      R02331              2                       None\n",
       "2083      R03128           None                       None\n",
       "2110      R03181              5                       None\n",
       "2223      R03342              5                       None\n",
       "2327      R03530              2                       None\n",
       "2529      R03868              5                       None\n",
       "2546      R03892           None                       None\n",
       "2560      R03925              5                       None\n",
       "2586      R03966              5                       None\n",
       "2673      R04134              5                       None\n",
       "2810      R04379              5                       None\n",
       "2860      R04482              5                       None\n",
       "2888      R04538              5                       None\n",
       "2945      R04686              5                       None\n",
       "3364      R05389              5                       None\n",
       "4465      R07248              2                       None\n",
       "4545      R07393              3                       None\n",
       "4817      R07839              5                       None\n",
       "5308      R08591           None                       None\n",
       "6004      R09641              2                       None\n",
       "6048      R09705              5                       None\n",
       "6876      R10774              4                       None\n",
       "7043      R11034              4                       None\n",
       "7067      R11065              5                       None"
      ]
     },
     "execution_count": 269,
     "metadata": {},
     "output_type": "execute_result"
    }
   ],
   "source": [
    "df_all2[['reaction_id', 'EC_first_digit','EC_first_digit_dGPredictor']]"
   ]
  },
  {
   "cell_type": "code",
   "execution_count": null,
   "metadata": {},
   "outputs": [],
   "source": []
  }
 ],
 "metadata": {
  "kernelspec": {
   "display_name": "Python 3",
   "language": "python",
   "name": "python3"
  },
  "language_info": {
   "codemirror_mode": {
    "name": "ipython",
    "version": 3
   },
   "file_extension": ".py",
   "mimetype": "text/x-python",
   "name": "python",
   "nbconvert_exporter": "python",
   "pygments_lexer": "ipython3",
   "version": "3.8.10"
  }
 },
 "nbformat": 4,
 "nbformat_minor": 4
}
